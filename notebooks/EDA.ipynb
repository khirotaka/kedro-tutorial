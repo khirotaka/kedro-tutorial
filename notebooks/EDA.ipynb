{
 "cells": [
  {
   "cell_type": "code",
   "execution_count": 11,
   "metadata": {},
   "outputs": [
    {
     "name": "stderr",
     "output_type": "stream",
     "text": [
      "/Users/khirotaka/PycharmProjects/tutorial_kedro/env/tutorial/lib/python3.8/site-packages/ipykernel/ipkernel.py:283: DeprecationWarning: `should_run_async` will not call `transform_cell` automatically in the future. Please pass the result to `transformed_cell` argument and any exception that happen during thetransform in `preprocessing_exc_tuple` in IPython 7.17 and above.\n",
      "  and should_run_async(code)\n"
     ]
    }
   ],
   "source": [
    "import pandas as pd\n",
    "import numpy as np\n",
    "from sklearn.model_selection import StratifiedKFold, cross_validate\n",
    "import matplotlib.pyplot as plt\n",
    "import seaborn as sns"
   ]
  },
  {
   "cell_type": "code",
   "execution_count": 12,
   "metadata": {},
   "outputs": [
    {
     "name": "stdout",
     "output_type": "stream",
     "text": [
      "2021-01-16 12:39:47,291 - kedro.io.data_catalog - INFO - Loading data from `example_iris_data` (CSVDataSet)...\n"
     ]
    },
    {
     "name": "stderr",
     "output_type": "stream",
     "text": [
      "/Users/khirotaka/PycharmProjects/tutorial_kedro/env/tutorial/lib/python3.8/site-packages/kedro/framework/context/context.py:469: UserWarning: Credentials not found in your Kedro project config.\n",
      "No files found in ['/Users/khirotaka/PycharmProjects/tutorial_kedro/tutorial/conf/base', '/Users/khirotaka/PycharmProjects/tutorial_kedro/tutorial/conf/local'] matching the glob pattern(s): ['credentials*', 'credentials*/**', '**/credentials*']\n",
      "  warn(f\"Credentials not found in your Kedro project config.\\n{str(exc)}\")\n"
     ]
    },
    {
     "data": {
      "text/html": [
       "<div>\n",
       "<style scoped>\n",
       "    .dataframe tbody tr th:only-of-type {\n",
       "        vertical-align: middle;\n",
       "    }\n",
       "\n",
       "    .dataframe tbody tr th {\n",
       "        vertical-align: top;\n",
       "    }\n",
       "\n",
       "    .dataframe thead th {\n",
       "        text-align: right;\n",
       "    }\n",
       "</style>\n",
       "<table border=\"1\" class=\"dataframe\">\n",
       "  <thead>\n",
       "    <tr style=\"text-align: right;\">\n",
       "      <th></th>\n",
       "      <th>sepal_length</th>\n",
       "      <th>sepal_width</th>\n",
       "      <th>petal_length</th>\n",
       "      <th>petal_width</th>\n",
       "      <th>species</th>\n",
       "    </tr>\n",
       "  </thead>\n",
       "  <tbody>\n",
       "    <tr>\n",
       "      <th>0</th>\n",
       "      <td>5.1</td>\n",
       "      <td>3.5</td>\n",
       "      <td>1.4</td>\n",
       "      <td>0.2</td>\n",
       "      <td>setosa</td>\n",
       "    </tr>\n",
       "    <tr>\n",
       "      <th>1</th>\n",
       "      <td>4.9</td>\n",
       "      <td>3.0</td>\n",
       "      <td>1.4</td>\n",
       "      <td>0.2</td>\n",
       "      <td>setosa</td>\n",
       "    </tr>\n",
       "    <tr>\n",
       "      <th>2</th>\n",
       "      <td>4.7</td>\n",
       "      <td>3.2</td>\n",
       "      <td>1.3</td>\n",
       "      <td>0.2</td>\n",
       "      <td>setosa</td>\n",
       "    </tr>\n",
       "    <tr>\n",
       "      <th>3</th>\n",
       "      <td>4.6</td>\n",
       "      <td>3.1</td>\n",
       "      <td>1.5</td>\n",
       "      <td>0.2</td>\n",
       "      <td>setosa</td>\n",
       "    </tr>\n",
       "    <tr>\n",
       "      <th>4</th>\n",
       "      <td>5.0</td>\n",
       "      <td>3.6</td>\n",
       "      <td>1.4</td>\n",
       "      <td>0.2</td>\n",
       "      <td>setosa</td>\n",
       "    </tr>\n",
       "  </tbody>\n",
       "</table>\n",
       "</div>"
      ],
      "text/plain": [
       "   sepal_length  sepal_width  petal_length  petal_width species\n",
       "0           5.1          3.5           1.4          0.2  setosa\n",
       "1           4.9          3.0           1.4          0.2  setosa\n",
       "2           4.7          3.2           1.3          0.2  setosa\n",
       "3           4.6          3.1           1.5          0.2  setosa\n",
       "4           5.0          3.6           1.4          0.2  setosa"
      ]
     },
     "execution_count": 12,
     "metadata": {},
     "output_type": "execute_result"
    }
   ],
   "source": [
    "# context は kedro jupyter notebook で立ち上げた場合、自動的に定義される変数\n",
    "df = context.catalog.load(\"example_iris_data\")\n",
    "\n",
    "df.head()"
   ]
  },
  {
   "cell_type": "code",
   "execution_count": 30,
   "metadata": {},
   "outputs": [
    {
     "data": {
      "text/plain": [
       "{'example_test_data_ratio': 0.2,\n",
       " 'sklearn_model_criterion': 'gini',\n",
       " 'sklearn_model_seed': 0,\n",
       " 'sklearn_model_max_leaf_nodes': 100}"
      ]
     },
     "execution_count": 30,
     "metadata": {},
     "output_type": "execute_result"
    }
   ],
   "source": [
    "context.params"
   ]
  },
  {
   "cell_type": "code",
   "execution_count": 13,
   "metadata": {},
   "outputs": [
    {
     "name": "stderr",
     "output_type": "stream",
     "text": [
      "/Users/khirotaka/PycharmProjects/tutorial_kedro/env/tutorial/lib/python3.8/site-packages/ipykernel/ipkernel.py:283: DeprecationWarning: `should_run_async` will not call `transform_cell` automatically in the future. Please pass the result to `transformed_cell` argument and any exception that happen during thetransform in `preprocessing_exc_tuple` in IPython 7.17 and above.\n",
      "  and should_run_async(code)\n"
     ]
    }
   ],
   "source": [
    "species = df[\"species\"].unique()"
   ]
  },
  {
   "cell_type": "code",
   "execution_count": 14,
   "metadata": {},
   "outputs": [
    {
     "data": {
      "text/plain": [
       "<AxesSubplot:>"
      ]
     },
     "execution_count": 14,
     "metadata": {},
     "output_type": "execute_result"
    },
    {
     "data": {
      "image/png": "[encoded data removed]",
      "text/plain": [
       "<Figure size 432x288 with 2 Axes>"
      ]
     },
     "metadata": {
      "needs_background": "light"
     },
     "output_type": "display_data"
    }
   ],
   "source": [
    "sns.heatmap(df.corr(), annot=True, cmap=\"coolwarm\", mask=np.triu(np.ones((4, 4)), k = 1))"
   ]
  },
  {
   "cell_type": "code",
   "execution_count": 15,
   "metadata": {},
   "outputs": [
    {
     "data": {
      "text/plain": [
       "<matplotlib.legend.Legend at 0x17c99b160>"
      ]
     },
     "execution_count": 15,
     "metadata": {},
     "output_type": "execute_result"
    },
    {
     "data": {
      "image/png": "[encoded data removed]",
      "text/plain": [
       "<Figure size 1440x360 with 3 Axes>"
      ]
     },
     "metadata": {},
     "output_type": "display_data"
    }
   ],
   "source": [
    "fig = plt.figure(facecolor=\"white\", figsize=(20, 5))\n",
    "ax1 = fig.add_subplot(1, 3, 1)\n",
    "ax1.scatter(\n",
    "    df[df[\"species\"] == species[0]][\"sepal_width\"],\n",
    "    df[df[\"species\"] == species[0]][\"petal_length\"],\n",
    "    label=species[0]\n",
    ")\n",
    "ax1.scatter(\n",
    "    df[df[\"species\"] == species[1]][\"sepal_width\"],\n",
    "    df[df[\"species\"] == species[1]][\"petal_length\"],\n",
    "    label=species[1]\n",
    ")\n",
    "ax1.scatter(\n",
    "    df[df[\"species\"] == species[2]][\"sepal_width\"],\n",
    "    df[df[\"species\"] == species[2]][\"petal_length\"],\n",
    "    label=species[2]\n",
    ")\n",
    "\n",
    "ax1.set_xlabel(\"sepal_width\")\n",
    "ax1.set_ylabel(\"petal_length\")\n",
    "ax1.legend()\n",
    "\n",
    "ax2 = fig.add_subplot(1, 3, 2)\n",
    "ax2.scatter(\n",
    "    df[df[\"species\"] == species[0]][\"sepal_width\"],\n",
    "    df[df[\"species\"] == species[0]][\"petal_width\"],\n",
    "    label=species[0]\n",
    ")\n",
    "ax2.scatter(\n",
    "    df[df[\"species\"] == species[1]][\"sepal_width\"],\n",
    "    df[df[\"species\"] == species[1]][\"petal_width\"],\n",
    "    label=species[1]\n",
    ")\n",
    "ax2.scatter(\n",
    "    df[df[\"species\"] == species[2]][\"sepal_width\"],\n",
    "    df[df[\"species\"] == species[2]][\"petal_width\"],\n",
    "    label=species[2]\n",
    ")\n",
    "\n",
    "ax2.set_xlabel(\"sepal_width\")\n",
    "ax2.set_ylabel(\"petal_width\")\n",
    "ax2.legend()\n",
    "\n",
    "ax3 = fig.add_subplot(1, 3, 3)\n",
    "ax3.scatter(\n",
    "    df[df[\"species\"] == species[0]][\"sepal_length\"],\n",
    "    df[df[\"species\"] == species[0]][\"sepal_width\"],\n",
    "    label=species[0]\n",
    ")\n",
    "ax3.scatter(\n",
    "    df[df[\"species\"] == species[1]][\"sepal_length\"],\n",
    "    df[df[\"species\"] == species[1]][\"sepal_width\"],\n",
    "    label=species[1]\n",
    ")\n",
    "ax3.scatter(\n",
    "    df[df[\"species\"] == species[2]][\"sepal_length\"],\n",
    "    df[df[\"species\"] == species[2]][\"sepal_width\"],\n",
    "    label=species[2]\n",
    ")\n",
    "\n",
    "ax3.set_xlabel(\"sepal_length\")\n",
    "ax3.set_ylabel(\"sepal_width\")\n",
    "ax3.legend()\n"
   ]
  },
  {
   "cell_type": "code",
   "execution_count": 16,
   "metadata": {},
   "outputs": [],
   "source": [
    "from sklearn.neighbors import KNeighborsClassifier as KNN"
   ]
  },
  {
   "cell_type": "code",
   "execution_count": 17,
   "metadata": {},
   "outputs": [],
   "source": [
    "data = df[[\"sepal_width\", \"petal_length\", \"petal_width\"]]\n",
    "targets = df[\"species\"]"
   ]
  },
  {
   "cell_type": "code",
   "execution_count": 18,
   "metadata": {},
   "outputs": [],
   "source": [
    "skf = StratifiedKFold(random_state=0, shuffle=True)\n",
    "results = cross_validate(KNN(3), data, targets, cv=skf, n_jobs=-1)"
   ]
  },
  {
   "cell_type": "code",
   "execution_count": 19,
   "metadata": {},
   "outputs": [
    {
     "name": "stderr",
     "output_type": "stream",
     "text": [
      "/Users/khirotaka/PycharmProjects/tutorial_kedro/env/tutorial/lib/python3.8/site-packages/ipykernel/ipkernel.py:283: DeprecationWarning: `should_run_async` will not call `transform_cell` automatically in the future. Please pass the result to `transformed_cell` argument and any exception that happen during thetransform in `preprocessing_exc_tuple` in IPython 7.17 and above.\n",
      "  and should_run_async(code)\n"
     ]
    }
   ],
   "source": [
    "mean = results[\"test_score\"].mean()\n",
    "std = results[\"test_score\"].std()"
   ]
  },
  {
   "cell_type": "code",
   "execution_count": 20,
   "metadata": {},
   "outputs": [
    {
     "name": "stdout",
     "output_type": "stream",
     "text": [
      "CV Score: 0.9467 ± 0.0267\n"
     ]
    }
   ],
   "source": [
    "print(\"CV Score: {:.4f} ± {:.4f}\".format(mean, std))"
   ]
  },
  {
   "cell_type": "code",
   "execution_count": null,
   "metadata": {},
   "outputs": [],
   "source": []
  }
 ],
 "metadata": {
  "kernelspec": {
   "display_name": "tutorial",
   "language": "python",
   "name": "python3"
  },
  "language_info": {
   "codemirror_mode": {
    "name": "ipython",
    "version": 3
   },
   "file_extension": ".py",
   "mimetype": "text/x-python",
   "name": "python",
   "nbconvert_exporter": "python",
   "pygments_lexer": "ipython3",
   "version": "3.8.2"
  }
 },
 "nbformat": 4,
 "nbformat_minor": 4
}
